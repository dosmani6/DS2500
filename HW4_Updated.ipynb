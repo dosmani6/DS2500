{
 "cells": [
  {
   "cell_type": "code",
   "execution_count": 26,
   "metadata": {},
   "outputs": [],
   "source": [
    "import seaborn as sns\n",
    "import pandas as pd\n",
    "import numpy as np\n",
    "from math import sqrt\n",
    "\n",
    "import json\n",
    "import pandas as pd\n",
    "import random\n"
   ]
  },
  {
   "cell_type": "code",
   "execution_count": 27,
   "metadata": {},
   "outputs": [],
   "source": [
    "# calculate the Euclidean distance between two vectors\n",
    "def euclidean_distance(row1, row2):\n",
    "    distance = 0.0\n",
    "    for i in range(len(row1)):\n",
    "        distance += (row1[i] - row2[i])**2\n",
    "    return sqrt(distance)\n",
    "\n",
    "def gen(I1, I2,w,r):\n",
    "    \"\"\" Generalize distance measure between two irises \"\"\"\n",
    "    first_row = tuple(I1)\n",
    "    second_row = tuple(I2)\n",
    "    my_result = w * sum([abs(a - b) ** r for a, b in zip(first_row, second_row)])\n",
    "    return my_result\n",
    "\n",
    "def listToString(s):  \n",
    "    \n",
    "    # initialize an empty string \n",
    "    str1 = \"\"  \n",
    "    \n",
    "    # traverse in the string   \n",
    "    for ele in s:  \n",
    "        str1 += ele   \n",
    "    \n",
    "    # return string   \n",
    "    return str1  "
   ]
  },
  {
   "cell_type": "code",
   "execution_count": 28,
   "metadata": {},
   "outputs": [],
   "source": [
    "dataset=pd.read_csv('iris.dat', skiprows = 1,header = None)\n",
    "#out = pd.Categorical(dataset.iloc[:, 4])\n",
    "output=dataset.iloc[:, 4].astype('category').cat.codes\n",
    "dataset=dataset.drop(dataset.columns[4], axis = 1) "
   ]
  },
  {
   "cell_type": "code",
   "execution_count": 29,
   "metadata": {},
   "outputs": [
    {
     "data": {
      "text/plain": [
       "array([[5.1, 3.5, 1.4, 0.2],\n",
       "       [4.9, 3. , 1.4, 0.2],\n",
       "       [4.7, 3.2, 1.3, 0.2],\n",
       "       [4.6, 3.1, 1.5, 0.2],\n",
       "       [5. , 3.6, 1.4, 0.2]])"
      ]
     },
     "execution_count": 29,
     "metadata": {},
     "output_type": "execute_result"
    }
   ],
   "source": [
    "data=dataset.to_numpy()\n",
    "data[:5]"
   ]
  },
  {
   "cell_type": "code",
   "execution_count": 18,
   "metadata": {},
   "outputs": [
    {
     "data": {
      "text/plain": [
       "0.2899999999999997"
      ]
     },
     "execution_count": 18,
     "metadata": {},
     "output_type": "execute_result"
    }
   ],
   "source": [
    "gen(data[1], data[0],1,2)\n"
   ]
  },
  {
   "cell_type": "code",
   "execution_count": 30,
   "metadata": {},
   "outputs": [],
   "source": [
    "def procure_neighbors(train, test_row, k,w,r):\n",
    "    distances = list()\n",
    "    for i in range(len(train)):\n",
    "        dist = gen(test_row, train[i],w,r)\n",
    "        distances.append((i,train[i], dist))\n",
    "    distances.sort(key=lambda tup: tup[2])\n",
    "    neighbors = list()\n",
    "    for i in range(k):\n",
    "        neighbors.append(distances[i])\n",
    "    return neighbors[1:2]"
   ]
  },
  {
   "cell_type": "code",
   "execution_count": 31,
   "metadata": {},
   "outputs": [
    {
     "ename": "ValueError",
     "evalue": "could not convert string to float: ''",
     "output_type": "error",
     "traceback": [
      "\u001b[0;31m---------------------------------------------------------------------------\u001b[0m",
      "\u001b[0;31mValueError\u001b[0m                                Traceback (most recent call last)",
      "\u001b[0;32m<ipython-input-31-d0bd4145bd6d>\u001b[0m in \u001b[0;36m<module>\u001b[0;34m\u001b[0m\n\u001b[1;32m     16\u001b[0m     \u001b[0mnum_one\u001b[0m \u001b[0;34m=\u001b[0m \u001b[0malpha\u001b[0m\u001b[0;34m[\u001b[0m\u001b[0;36m0\u001b[0m\u001b[0;34m]\u001b[0m\u001b[0;34m\u001b[0m\u001b[0;34m\u001b[0m\u001b[0m\n\u001b[1;32m     17\u001b[0m     \u001b[0;31m#print(num_one)\u001b[0m\u001b[0;34m\u001b[0m\u001b[0;34m\u001b[0m\u001b[0;34m\u001b[0m\u001b[0m\n\u001b[0;32m---> 18\u001b[0;31m     \u001b[0mnum_one\u001b[0m \u001b[0;34m=\u001b[0m \u001b[0mfloat\u001b[0m\u001b[0;34m(\u001b[0m\u001b[0mnum_one\u001b[0m\u001b[0;34m[\u001b[0m\u001b[0;36m2\u001b[0m\u001b[0;34m:\u001b[0m\u001b[0;34m]\u001b[0m\u001b[0;34m)\u001b[0m\u001b[0;34m\u001b[0m\u001b[0;34m\u001b[0m\u001b[0m\n\u001b[0m\u001b[1;32m     19\u001b[0m     \u001b[0mone_array\u001b[0m \u001b[0;34m=\u001b[0m \u001b[0mlist\u001b[0m\u001b[0;34m(\u001b[0m\u001b[0malpha\u001b[0m\u001b[0;34m[\u001b[0m\u001b[0;36m1\u001b[0m\u001b[0;34m]\u001b[0m\u001b[0;34m)\u001b[0m\u001b[0;34m\u001b[0m\u001b[0;34m\u001b[0m\u001b[0m\n\u001b[1;32m     20\u001b[0m     \u001b[0;31m#print(one_array)\u001b[0m\u001b[0;34m\u001b[0m\u001b[0;34m\u001b[0m\u001b[0;34m\u001b[0m\u001b[0m\n",
      "\u001b[0;31mValueError\u001b[0m: could not convert string to float: ''"
     ]
    }
   ],
   "source": [
    "first_num = []\n",
    "ar1 = []\n",
    "ar2 = []\n",
    "ar3 = []\n",
    "ar4 = []\n",
    "fin_num = []\n",
    "for i in range(100):\n",
    "    one = random.randint(1, 100)\n",
    "    #print(one)\n",
    "    two = random.randint(1, 100)\n",
    "    three = random.randint(1, 100)\n",
    "    rand_arr = random.randint(1, 100)\n",
    "    result = procure_neighbors(data, data[rand_arr], one,two,three)\n",
    "    alpha = str(result)\n",
    "    alpha = alpha.split(',')\n",
    "    num_one = alpha[0]\n",
    "    #print(num_one)\n",
    "    num_one = float(num_one[2:])\n",
    "    one_array = list(alpha[1]) \n",
    "    #print(one_array)\n",
    "    one_array = one_array[8:]\n",
    "    array_one = float(listToString(one_array))\n",
    "    #print(array_one)\n",
    "    array_two = float(alpha[2])\n",
    "    array_three = float(alpha[3])\n",
    "    array_four = list(alpha[4]) \n",
    "    array_four = array_four[:-2]\n",
    "    array_four = float(listToString(array_four))\n",
    "    last_num = alpha[5]\n",
    "    last_num = float(last_num[:-2])\n",
    "    first_num.append(num_one)\n",
    "    ar1.append(array_one)\n",
    "    ar2.append(array_two)\n",
    "    ar3.append(array_three)\n",
    "    ar4.append(array_four)\n",
    "    fin_num.append(last_num)\n",
    "\n",
    "d = {'Last Iteration': first_num, 'Weight # 1': ar1, 'Weight # 2': ar2, 'Weight # 3': ar3, \n",
    "     'Weight # 4': ar4, 'accuracy': fin_num}\n",
    "df = pd.DataFrame(data=d)\n",
    "    "
   ]
  },
  {
   "cell_type": "code",
   "execution_count": 32,
   "metadata": {},
   "outputs": [
    {
     "data": {
      "text/html": [
       "<div>\n",
       "<style scoped>\n",
       "    .dataframe tbody tr th:only-of-type {\n",
       "        vertical-align: middle;\n",
       "    }\n",
       "\n",
       "    .dataframe tbody tr th {\n",
       "        vertical-align: top;\n",
       "    }\n",
       "\n",
       "    .dataframe thead th {\n",
       "        text-align: right;\n",
       "    }\n",
       "</style>\n",
       "<table border=\"1\" class=\"dataframe\">\n",
       "  <thead>\n",
       "    <tr style=\"text-align: right;\">\n",
       "      <th></th>\n",
       "      <th>Last Iteration</th>\n",
       "      <th>Weight # 1</th>\n",
       "      <th>Weight # 2</th>\n",
       "      <th>Weight # 3</th>\n",
       "      <th>Weight # 4</th>\n",
       "      <th>accuracy</th>\n",
       "    </tr>\n",
       "  </thead>\n",
       "  <tbody>\n",
       "    <tr>\n",
       "      <th>0</th>\n",
       "      <td>92.0</td>\n",
       "      <td>5.8</td>\n",
       "      <td>2.6</td>\n",
       "      <td>4.0</td>\n",
       "      <td>1.2</td>\n",
       "      <td>3.264225e-06</td>\n",
       "    </tr>\n",
       "    <tr>\n",
       "      <th>1</th>\n",
       "      <td>31.0</td>\n",
       "      <td>5.4</td>\n",
       "      <td>3.4</td>\n",
       "      <td>1.5</td>\n",
       "      <td>0.4</td>\n",
       "      <td>5.070602e-66</td>\n",
       "    </tr>\n",
       "    <tr>\n",
       "      <th>2</th>\n",
       "      <td>33.0</td>\n",
       "      <td>5.5</td>\n",
       "      <td>4.2</td>\n",
       "      <td>1.4</td>\n",
       "      <td>0.2</td>\n",
       "      <td>2.670643e-31</td>\n",
       "    </tr>\n",
       "    <tr>\n",
       "      <th>3</th>\n",
       "      <td>50.0</td>\n",
       "      <td>7.0</td>\n",
       "      <td>3.2</td>\n",
       "      <td>4.7</td>\n",
       "      <td>1.4</td>\n",
       "      <td>4.487533e-60</td>\n",
       "    </tr>\n",
       "    <tr>\n",
       "      <th>4</th>\n",
       "      <td>31.0</td>\n",
       "      <td>5.4</td>\n",
       "      <td>3.4</td>\n",
       "      <td>1.5</td>\n",
       "      <td>0.4</td>\n",
       "      <td>1.236951e-22</td>\n",
       "    </tr>\n",
       "    <tr>\n",
       "      <th>...</th>\n",
       "      <td>...</td>\n",
       "      <td>...</td>\n",
       "      <td>...</td>\n",
       "      <td>...</td>\n",
       "      <td>...</td>\n",
       "      <td>...</td>\n",
       "    </tr>\n",
       "    <tr>\n",
       "      <th>95</th>\n",
       "      <td>8.0</td>\n",
       "      <td>4.4</td>\n",
       "      <td>2.9</td>\n",
       "      <td>1.4</td>\n",
       "      <td>0.2</td>\n",
       "      <td>1.120000e-60</td>\n",
       "    </tr>\n",
       "    <tr>\n",
       "      <th>96</th>\n",
       "      <td>27.0</td>\n",
       "      <td>5.2</td>\n",
       "      <td>3.5</td>\n",
       "      <td>1.5</td>\n",
       "      <td>0.2</td>\n",
       "      <td>1.700000e-07</td>\n",
       "    </tr>\n",
       "    <tr>\n",
       "      <th>97</th>\n",
       "      <td>29.0</td>\n",
       "      <td>4.7</td>\n",
       "      <td>3.2</td>\n",
       "      <td>1.6</td>\n",
       "      <td>0.2</td>\n",
       "      <td>5.800000e-68</td>\n",
       "    </tr>\n",
       "    <tr>\n",
       "      <th>98</th>\n",
       "      <td>56.0</td>\n",
       "      <td>6.3</td>\n",
       "      <td>3.3</td>\n",
       "      <td>4.7</td>\n",
       "      <td>1.6</td>\n",
       "      <td>4.412579e-54</td>\n",
       "    </tr>\n",
       "    <tr>\n",
       "      <th>99</th>\n",
       "      <td>10.0</td>\n",
       "      <td>5.4</td>\n",
       "      <td>3.7</td>\n",
       "      <td>1.5</td>\n",
       "      <td>0.2</td>\n",
       "      <td>4.429185e-18</td>\n",
       "    </tr>\n",
       "  </tbody>\n",
       "</table>\n",
       "<p>100 rows × 6 columns</p>\n",
       "</div>"
      ],
      "text/plain": [
       "    Last Iteration  Weight # 1  Weight # 2  Weight # 3  Weight # 4  \\\n",
       "0             92.0         5.8         2.6         4.0         1.2   \n",
       "1             31.0         5.4         3.4         1.5         0.4   \n",
       "2             33.0         5.5         4.2         1.4         0.2   \n",
       "3             50.0         7.0         3.2         4.7         1.4   \n",
       "4             31.0         5.4         3.4         1.5         0.4   \n",
       "..             ...         ...         ...         ...         ...   \n",
       "95             8.0         4.4         2.9         1.4         0.2   \n",
       "96            27.0         5.2         3.5         1.5         0.2   \n",
       "97            29.0         4.7         3.2         1.6         0.2   \n",
       "98            56.0         6.3         3.3         4.7         1.6   \n",
       "99            10.0         5.4         3.7         1.5         0.2   \n",
       "\n",
       "        accuracy  \n",
       "0   3.264225e-06  \n",
       "1   5.070602e-66  \n",
       "2   2.670643e-31  \n",
       "3   4.487533e-60  \n",
       "4   1.236951e-22  \n",
       "..           ...  \n",
       "95  1.120000e-60  \n",
       "96  1.700000e-07  \n",
       "97  5.800000e-68  \n",
       "98  4.412579e-54  \n",
       "99  4.429185e-18  \n",
       "\n",
       "[100 rows x 6 columns]"
      ]
     },
     "execution_count": 32,
     "metadata": {},
     "output_type": "execute_result"
    }
   ],
   "source": [
    "df"
   ]
  },
  {
   "cell_type": "code",
   "execution_count": 24,
   "metadata": {},
   "outputs": [
    {
     "data": {
      "text/plain": [
       "<matplotlib.axes._subplots.AxesSubplot at 0x7fb28854fd60>"
      ]
     },
     "execution_count": 24,
     "metadata": {},
     "output_type": "execute_result"
    },
    {
     "data": {
      "image/png": "[encoded data removed]",
      "text/plain": [
       "<Figure size 432x288 with 2 Axes>"
      ]
     },
     "metadata": {
      "needs_background": "light"
     },
     "output_type": "display_data"
    }
   ],
   "source": [
    "df.plot.scatter(x='Last Iteration',y='Weight # 1',c='accuracy',colormap='viridis')"
   ]
  },
  {
   "cell_type": "code",
   "execution_count": 25,
   "metadata": {},
   "outputs": [
    {
     "data": {
      "text/plain": [
       "<matplotlib.axes._subplots.AxesSubplot at 0x7fb28866efa0>"
      ]
     },
     "execution_count": 25,
     "metadata": {},
     "output_type": "execute_result"
    },
    {
     "data": {
      "image/png": "[encoded data removed]",
      "text/plain": [
       "<Figure size 432x288 with 2 Axes>"
      ]
     },
     "metadata": {
      "needs_background": "light"
     },
     "output_type": "display_data"
    }
   ],
   "source": [
    "df.plot.scatter(x='Weight # 3',y='Weight # 2',c='accuracy',colormap='viridis')"
   ]
  },
  {
   "cell_type": "markdown",
   "metadata": {},
   "source": [
    "Part A.) In Part A I increased my K number in the KNN supervised learning model from one to five. We used KNN for classification purposes with the end goal of succesfully classifying each iris plant. At first I took the euclidean distance between row 1 and row 2.Then I generalized the distances between the two irises. I set 5 as my K number and the distance of a new data point was calculated from all the other training points using the algirithom. It ultimately assigned the datapoints to 5 separate groups.\n",
    "\n",
    "Part B.) Instead of using euclidean distance in this part we used the general Minkowski distance. It was calucalated in normed vector space. The distance ended up being about 0.29\n",
    "\n",
    "Part C.)The code in part C is meant to bring parst A and B and take full advantage of them. Within the for loop seen above, All of the varialbes are randomized into the created functions over 100 times, and each variable is put into it's own list. These variables art then formatted and put into a Pandas DataFrame. This DataFrame can then be manipulated into a large amount of different representations."
   ]
  }
 ],
 "metadata": {
  "kernelspec": {
   "display_name": "Python 3",
   "language": "python",
   "name": "python3"
  },
  "language_info": {
   "codemirror_mode": {
    "name": "ipython",
    "version": 3
   },
   "file_extension": ".py",
   "mimetype": "text/x-python",
   "name": "python",
   "nbconvert_exporter": "python",
   "pygments_lexer": "ipython3",
   "version": "3.8.3"
  }
 },
 "nbformat": 4,
 "nbformat_minor": 4
}
